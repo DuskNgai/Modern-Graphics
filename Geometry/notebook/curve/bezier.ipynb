{
 "cells": [
  {
   "cell_type": "code",
   "execution_count": null,
   "id": "2ce4ed33",
   "metadata": {},
   "outputs": [],
   "source": [
    "from pathlib import Path\n",
    "import sys\n",
    "\n",
    "from IPython import get_ipython\n",
    "\n",
    "sys.path.append(Path(get_ipython().run_line_magic(\"pwd\", \"\")).resolve().parent.parent.as_posix())\n",
    "\n",
    "from curve.bezier import BezierCurve\n",
    "from visualize.bezier import BezierVisualizer"
   ]
  },
  {
   "cell_type": "code",
   "execution_count": null,
   "id": "f5e12234",
   "metadata": {},
   "outputs": [],
   "source": [
    "control_points_2d = [[0, 0], [1, 2], [3, -1], [4, 1]]\n",
    "control_points_3d = [[0, 0, 0], [1, 2, 1], [3, -1, 2], [4, 1, 1]]\n",
    "\n",
    "curve_2d = BezierCurve(control_points_2d)\n",
    "curve_3d = BezierCurve(control_points_3d)"
   ]
  },
  {
   "cell_type": "code",
   "execution_count": null,
   "id": "94c7f6d1",
   "metadata": {},
   "outputs": [],
   "source": [
    "visualizer_2d = BezierVisualizer(curve_2d, num_segments=51)\n",
    "visualizer_3d = BezierVisualizer(curve_3d, num_segments=51)"
   ]
  },
  {
   "cell_type": "code",
   "execution_count": null,
   "id": "19ffd771",
   "metadata": {},
   "outputs": [],
   "source": [
    "visualizer_2d.visualize()"
   ]
  },
  {
   "cell_type": "code",
   "execution_count": null,
   "id": "6e3a2ed3",
   "metadata": {},
   "outputs": [],
   "source": [
    "visualizer_3d.visualize()"
   ]
  }
 ],
 "metadata": {
  "kernelspec": {
   "display_name": "semantic",
   "language": "python",
   "name": "python3"
  },
  "language_info": {
   "codemirror_mode": {
    "name": "ipython",
    "version": 3
   },
   "file_extension": ".py",
   "mimetype": "text/x-python",
   "name": "python",
   "nbconvert_exporter": "python",
   "pygments_lexer": "ipython3",
   "version": "3.11.13"
  }
 },
 "nbformat": 4,
 "nbformat_minor": 5
}
