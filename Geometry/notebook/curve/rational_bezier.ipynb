{
 "cells": [
  {
   "cell_type": "code",
   "execution_count": null,
   "id": "2ce4ed33",
   "metadata": {},
   "outputs": [],
   "source": [
    "from pathlib import Path\n",
    "import sys\n",
    "\n",
    "from IPython import get_ipython\n",
    "\n",
    "sys.path.append(Path(get_ipython().run_line_magic(\"pwd\", \"\")).resolve().parent.parent.as_posix())\n",
    "\n",
    "from src.curve import RationalBezierCurve\n",
    "from src.visualizer import RationalBezierCurveVisualizer"
   ]
  },
  {
   "cell_type": "code",
   "execution_count": null,
   "id": "f5e12234",
   "metadata": {},
   "outputs": [],
   "source": [
    "control_points_2d = [[0, 2, 2], [2, 2, 2], [4, 0, 4]]\n",
    "\n",
    "curve_2d = RationalBezierCurve(control_points_2d)"
   ]
  },
  {
   "cell_type": "code",
   "execution_count": null,
   "id": "94c7f6d1",
   "metadata": {},
   "outputs": [],
   "source": [
    "visualizer_2d = RationalBezierCurveVisualizer(curve_2d, num_segments=51)"
   ]
  },
  {
   "cell_type": "code",
   "execution_count": null,
   "id": "19ffd771",
   "metadata": {},
   "outputs": [],
   "source": [
    "visualizer_2d.visualize()"
   ]
  }
 ],
 "metadata": {
  "kernelspec": {
   "display_name": "semantic",
   "language": "python",
   "name": "python3"
  },
  "language_info": {
   "codemirror_mode": {
    "name": "ipython",
    "version": 3
   },
   "file_extension": ".py",
   "mimetype": "text/x-python",
   "name": "python",
   "nbconvert_exporter": "python",
   "pygments_lexer": "ipython3",
   "version": "3.11.13"
  }
 },
 "nbformat": 4,
 "nbformat_minor": 5
}
